{
 "cells": [
  {
   "cell_type": "markdown",
   "metadata": {
    "collapsed": false
   },
   "source": [
    "Реализовать на своем компьютере. Из файлa n_log1.txt отобрать все строки, содержащие подстроки «KEEP» и «pressure=». Эти строки записать в файл out1.txt. Используя строки в out1.txt найти минимальное, среднее, максимальное значение атмосферного давления (pressure). Найти значение sum_mma, которое рассчитывается, как сумма минимального, максимального и округленного с помощью функции int() среднего значения атмосферного давления. \n",
    "\n",
    "Вставьте в ответ строчку кода, в которой с помощью print() передать найденное на предыдущем шаге sum_mma.\n"
   ]
  },
  {
   "cell_type": "code",
   "execution_count": 2,
   "metadata": {},
   "outputs": [
    {
     "name": "stdout",
     "output_type": "stream",
     "text": [
      "3080695\n"
     ]
    }
   ],
   "source": [
    "# Шаг 1: Чтение и фильтрация строк\n",
    "input_file = 'n_log1.txt'\n",
    "output_file = 'out1.txt'\n",
    "\n",
    "with open(input_file, 'r') as infile, open(output_file, 'w') as outfile:\n",
    "    filtered_lines = []\n",
    "    for line in infile:\n",
    "        if 'KEEP' in line and 'pressure=' in line:\n",
    "            filtered_lines.append(line)\n",
    "            outfile.write(line)\n",
    "\n",
    "# Шаг 2: Извлечение значений давления\n",
    "pressures = []\n",
    "for line in filtered_lines:\n",
    "    try:\n",
    "        pressure_part = line.split('pressure=')[1].split(',')[0]\n",
    "        pressures.append(int(pressure_part))\n",
    "    except (IndexError, ValueError):\n",
    "        pass\n",
    "\n",
    "# Шаг 3: Нахождение минимального, среднего и максимального значения давления\n",
    "if pressures:\n",
    "    min_pressure = min(pressures)\n",
    "    max_pressure = max(pressures)\n",
    "    avg_pressure = sum(pressures) / len(pressures)\n",
    "    \n",
    "    # Шаг 4: Вычисление sum_mma\n",
    "    sum_mma = min_pressure + max_pressure + int(avg_pressure)\n",
    "\n",
    "    # Шаг 5: Вывод результата\n",
    "    print(sum_mma)\n",
    "else:\n",
    "    print(\"No valid pressure values found.\")"
   ]
  },
  {
   "cell_type": "code",
   "execution_count": 3,
   "metadata": {
    "collapsed": true
   },
   "outputs": [
    {
     "name": "stdout",
     "output_type": "stream",
     "text": [
      "3080695\n"
     ]
    }
   ],
   "source": [
    "print(3080695)"
   ]
  }
 ],
 "metadata": {
  "kernelspec": {
   "display_name": ".venv",
   "language": "python",
   "name": "python3"
  },
  "language_info": {
   "codemirror_mode": {
    "name": "ipython",
    "version": 3
   },
   "file_extension": ".py",
   "mimetype": "text/x-python",
   "name": "python",
   "nbconvert_exporter": "python",
   "pygments_lexer": "ipython3",
   "version": "3.10.11"
  }
 },
 "nbformat": 4,
 "nbformat_minor": 0
}
