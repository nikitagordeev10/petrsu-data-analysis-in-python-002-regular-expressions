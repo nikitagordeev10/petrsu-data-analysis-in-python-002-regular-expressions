{
 "cells": [
  {
   "cell_type": "markdown",
   "metadata": {
    "collapsed": false
   },
   "source": [
    "Из переданного текста нужно получить последовательности из букв (русских или английских), в которых могут быть дефисы (т.е. слова с дефисами считаются одним словом, а не двумя). Вставьте в ответ код программы с реализацией функции function(string), на вход которой подается строка string. Функции function(string) с помощью return должна возвращать количество указанных последовательностей в string.\n",
    "\n",
    "Например,  function( \"\"\"\n",
    "\n",
    "Он --- серо-буро-малиновый слон!!\n",
    "\n",
    "\\>\\>\\>:->\n",
    "\n",
    "А не кот.\n",
    "\n",
    "  \"\"\")  -> 6\n",
    "\n",
    " \n",
    "Для примера:\n",
    "\n",
    "\n",
    "| Тест                | Результат |\n",
    "|---------------------|-----------|\n",
    "| print(function(\"\"\"Он --- серо-буро-малиновый слон!!>>>:->А не кот.\"\"\")) | 6        |\n",
    "| print(function(\"\"\"Он - человек!!>>>:->А не кот.\"\"\")) | 5       |"
   ]
  },
  {
   "cell_type": "code",
   "execution_count": 1,
   "metadata": {
    "collapsed": true
   },
   "outputs": [],
   "source": [
    "import re\n",
    "\n",
    "def function(string):\n",
    "    # Регулярное выражение для поиска последовательностей букв с возможными дефисами внутри\n",
    "    pattern = r'[а-яА-Яa-zA-Z]+(?:-[а-яА-Яa-zA-Z]+)*'\n",
    "\n",
    "    # Ищем все совпадения с указанным шаблоном\n",
    "    matches = re.findall(pattern, string)\n",
    "\n",
    "    # Возвращаем количество найденных последовательностей\n",
    "    return len(matches)"
   ]
  },
  {
   "cell_type": "code",
   "execution_count": 2,
   "metadata": {
    "collapsed": false
   },
   "outputs": [
    {
     "name": "stdout",
     "output_type": "stream",
     "text": [
      "6\n"
     ]
    }
   ],
   "source": [
    "print(function(\"\"\"Он --- серо-буро-малиновый слон!!>>>:->А не кот.\"\"\"))"
   ]
  },
  {
   "cell_type": "code",
   "execution_count": 3,
   "metadata": {
    "collapsed": false
   },
   "outputs": [
    {
     "name": "stdout",
     "output_type": "stream",
     "text": [
      "5\n"
     ]
    }
   ],
   "source": [
    "print(function(\"\"\"Он - человек!!>>>:->А не кот.\"\"\"))"
   ]
  }
 ],
 "metadata": {
  "kernelspec": {
   "display_name": ".venv",
   "language": "python",
   "name": "python3"
  },
  "language_info": {
   "codemirror_mode": {
    "name": "ipython",
    "version": 3
   },
   "file_extension": ".py",
   "mimetype": "text/x-python",
   "name": "python",
   "nbconvert_exporter": "python",
   "pygments_lexer": "ipython3",
   "version": "3.10.11"
  }
 },
 "nbformat": 4,
 "nbformat_minor": 0
}
