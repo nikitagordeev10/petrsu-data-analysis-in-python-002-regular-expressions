{
 "cells": [
  {
   "cell_type": "markdown",
   "metadata": {
    "collapsed": false
   },
   "source": [
    "Предположим вы получили код, в котором переменные названы в стиле CamelCase (название переменной состоит из разных слов, из которых второе и последующее начинаются с заглавных буквы, например: мояПерваяПеременная или атмосферноеДавление), а вам нужен название переменных в стиле snake_case (название состоит из разных слов, которые начинаются с прописных букв и разделены подчеркиванием, например: моя_первая_переменная или атмосферное_давление). Вручную править код будет довольно долго.  Вставьте в ответ код программы с реализацией функции function(string), на вход которой подается строка string с названием переменной в стиле camelCase.  Функция function(string) с помощью return должна возвращать название этой же переменной в стиле snake_case.\n",
    "\n",
    "Например, function(\"camelCaseVar\") -> camel_case_var .\n",
    "\n",
    "Для примера:\n",
    "\n",
    "\n",
    "| Тест                | Результат |\n",
    "|---------------------|-----------|\n",
    "| print(function(\"camelCaseVar\"))  | camel_case_var        |\n",
    "| print(function(\"myWonderfulVar\")) | my_wonderful_var       |"
   ]
  },
  {
   "cell_type": "code",
   "execution_count": null,
   "metadata": {
    "collapsed": true
   },
   "outputs": [],
   "source": [
    "import re\n",
    "\n",
    "def function(string):\n",
    "    # Используем регулярное выражение для поиска заглавных букв в строке\n",
    "    # ([A-Z]) - совпадение с одной заглавной буквой латинского алфавита\n",
    "    # r'_\\1' - добавляем символ подчеркивания перед найденной буквой\n",
    "    snake_case = re.sub(r'([A-Z])', r'_\\1', string).lower()\n",
    "\n",
    "    # Убираем начальное подчеркивание, если оно есть\n",
    "    return snake_case.lstrip('_')"
   ]
  },
  {
   "cell_type": "code",
   "execution_count": 2,
   "metadata": {
    "collapsed": false
   },
   "outputs": [
    {
     "name": "stdout",
     "output_type": "stream",
     "text": [
      "camel_case_var\n"
     ]
    }
   ],
   "source": [
    "print(function(\"camelCaseVar\"))"
   ]
  },
  {
   "cell_type": "code",
   "execution_count": 3,
   "metadata": {
    "collapsed": false
   },
   "outputs": [
    {
     "name": "stdout",
     "output_type": "stream",
     "text": [
      "my_wonderful_var\n"
     ]
    }
   ],
   "source": [
    "print(function(\"myWonderfulVar\"))"
   ]
  }
 ],
 "metadata": {
  "kernelspec": {
   "display_name": ".venv",
   "language": "python",
   "name": "python3"
  },
  "language_info": {
   "codemirror_mode": {
    "name": "ipython",
    "version": 3
   },
   "file_extension": ".py",
   "mimetype": "text/x-python",
   "name": "python",
   "nbconvert_exporter": "python",
   "pygments_lexer": "ipython3",
   "version": "3.10.11"
  }
 },
 "nbformat": 4,
 "nbformat_minor": 0
}
