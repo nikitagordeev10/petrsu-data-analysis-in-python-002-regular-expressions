{
 "cells": [
  {
   "cell_type": "markdown",
   "metadata": {
    "collapsed": false
   },
   "source": [
    "За аббревиатуру будем считать последовательность только заглавных букв (не менее двух). Вставьте в ответ код программы с реализацией функции function(string), на вход которой подается строка string. Функции function(string) с помощью return должна возвращать количество аббревиатур в string.\n",
    "\n",
    "Например: function(« А курс информатики в вузе соответствует ФГОС и ПООП, что подтверждено ФГУ») -> 3 \n",
    "\n",
    "Для примера:\n",
    "\n",
    "| Тест                | Результат |\n",
    "|---------------------|-----------|\n",
    "| print(function(\" А курс информатики в вузе соответствует ФГОС и ПООП, что подтверждено ФГУ\"))  | 3        |\n",
    "| print(function(\" СССР и США\")) | 2       |"
   ]
  },
  {
   "cell_type": "code",
   "execution_count": null,
   "metadata": {
    "collapsed": true
   },
   "outputs": [],
   "source": [
    "import re\n",
    "\n",
    "def function(string):\n",
    "    # Определяем шаблон для поиска слов, состоящих из заглавных букв\n",
    "    # \\b - граница слова\n",
    "    # [\\u0410-\\u042F] или [А-Я] - диапазон заглавных русских букв (Юникод)\n",
    "    # {2,} - минимум 2 символа\n",
    "    # \\b - граница слова\n",
    "    pattern = r'\\b[А-Я]{2,}\\b'\n",
    "\n",
    "    # Находим все слова, соответствующие шаблону, в переданной строке\n",
    "    matches = re.findall(pattern, string)\n",
    "\n",
    "    # Возвращаем количество найденных слов\n",
    "    return len(matches)\n"
   ]
  },
  {
   "cell_type": "code",
   "execution_count": 2,
   "metadata": {
    "collapsed": false
   },
   "outputs": [
    {
     "name": "stdout",
     "output_type": "stream",
     "text": [
      "3\n"
     ]
    }
   ],
   "source": [
    "print(function(\" А курс информатики в вузе соответствует ФГОС и ПООП, что подтверждено ФГУ\"))"
   ]
  },
  {
   "cell_type": "code",
   "execution_count": 3,
   "metadata": {
    "collapsed": false
   },
   "outputs": [
    {
     "name": "stdout",
     "output_type": "stream",
     "text": [
      "2\n"
     ]
    }
   ],
   "source": [
    "print(function(\" СССР и США\"))"
   ]
  }
 ],
 "metadata": {
  "kernelspec": {
   "display_name": ".venv",
   "language": "python",
   "name": "python3"
  },
  "language_info": {
   "codemirror_mode": {
    "name": "ipython",
    "version": 3
   },
   "file_extension": ".py",
   "mimetype": "text/x-python",
   "name": "python",
   "nbconvert_exporter": "python",
   "pygments_lexer": "ipython3",
   "version": "3.10.11"
  }
 },
 "nbformat": 4,
 "nbformat_minor": 0
}
