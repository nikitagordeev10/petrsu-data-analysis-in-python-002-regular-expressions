{
 "cells": [
  {
   "cell_type": "markdown",
   "metadata": {
    "collapsed": false
   },
   "source": [
    "Используйте регулярные выражения. Вставьте в ответ код программы на Python, с реализацией функции function(string), на вход которой подается строка string. Функции function(string) с помощью return должна возвращать количество слов в string, которые начинаются с русскоязычных букв “о” или “э” в любом регистре. \n",
    "\n",
    "Например: function(‘Сказала Ольга: \"Это верно ,что 2+2=4\"’) -> 2 .\n",
    "\n",
    "Для примера:\n",
    "\n",
    "\n",
    "| Тест                | Результат |\n",
    "|---------------------|-----------|\n",
    "| print(function('Сказала Ольга: \"Это верно ,что 2+2=4\"'))  | 2        |\n",
    "| print(function('Это надо знать. Это - классика')) | 2       |"
   ]
  },
  {
   "cell_type": "code",
   "execution_count": 1,
   "metadata": {
    "collapsed": true
   },
   "outputs": [],
   "source": [
    "import re\n",
    "\n",
    "def function(string):\n",
    "    # Используем регулярное выражение для поиска слов, начинающихся на \"о\" или \"э\" (в любом регистре)\n",
    "    # \\b обозначает границу слова, [оОэЭ] - любой символ \"о\" или \"э\" в любом регистре\n",
    "    pattern = r'\\b[оОэЭ]\\w*'\n",
    "    \n",
    "    # Находим все такие слова в строке\n",
    "    matches = re.findall(pattern, string)\n",
    "    \n",
    "    # Возвращаем количество найденных слов\n",
    "    return len(matches)"
   ]
  },
  {
   "cell_type": "code",
   "execution_count": 2,
   "metadata": {
    "collapsed": false
   },
   "outputs": [
    {
     "name": "stdout",
     "output_type": "stream",
     "text": [
      "2\n"
     ]
    }
   ],
   "source": [
    "print(function('Сказала Ольга: \"Это верно ,что 2+2=4\"'))"
   ]
  },
  {
   "cell_type": "code",
   "execution_count": 3,
   "metadata": {
    "collapsed": false
   },
   "outputs": [
    {
     "name": "stdout",
     "output_type": "stream",
     "text": [
      "2\n"
     ]
    }
   ],
   "source": [
    "print(function('Это надо знать. Это - классика'))"
   ]
  }
 ],
 "metadata": {
  "kernelspec": {
   "display_name": ".venv",
   "language": "python",
   "name": "python3"
  },
  "language_info": {
   "codemirror_mode": {
    "name": "ipython",
    "version": 3
   },
   "file_extension": ".py",
   "mimetype": "text/x-python",
   "name": "python",
   "nbconvert_exporter": "python",
   "pygments_lexer": "ipython3",
   "version": "3.10.11"
  }
 },
 "nbformat": 4,
 "nbformat_minor": 0
}
