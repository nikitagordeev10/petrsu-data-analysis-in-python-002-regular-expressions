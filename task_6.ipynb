{
 "cells": [
  {
   "cell_type": "markdown",
   "metadata": {
    "collapsed": false
   },
   "source": [
    "Реализовать на своем компьютере. Скачать и распаковать folder_main.zip c папками (директориями) и файлами. В каждой директории размещены файлы.  Написать программу, которая: \n",
    "\n",
    "- Спрашивает у пользователя путь до директории для начала работы. \n",
    "- Используя функции модуля os, получает списки всех папок и файлов, находящихся в папке folder_main и во вложенных в нее папках. Находит и сохраняет в переменную n_file количество найденных файлов.\n",
    "- Файлам .txt в конце их названия добавляет подстроку «_backup» (из файла name.txt получится name_backup.txt). \n",
    "- Сосчитать разность dif_file между общим количеством файлов и .txt-файлов. \n",
    " \n",
    "\n",
    "Вставьте в ответ строчку кода, в которой с помощью print() передать найденное dif_file.\n"
   ]
  },
  {
   "cell_type": "code",
   "execution_count": 1,
   "metadata": {},
   "outputs": [
    {
     "name": "stdout",
     "output_type": "stream",
     "text": [
      "24\n"
     ]
    }
   ],
   "source": [
    "import os\n",
    "\n",
    "# Запрашиваем у пользователя путь до директории\n",
    "start_path = input_file = 'folder_main'\n",
    "\n",
    "# Переменные для подсчета файлов\n",
    "n_file = 0\n",
    "txt_count = 0\n",
    "\n",
    "# Обходим все папки и файлы в указанной директории\n",
    "for root, dirs, files in os.walk(start_path):\n",
    "    for file in files:\n",
    "        n_file += 1  # Увеличиваем общее количество файлов\n",
    "        if file.endswith(\".txt\"):\n",
    "            txt_count += 1  # Увеличиваем количество .txt файлов\n",
    "            # Переименовываем .txt файл, добавляя \"_backup\"\n",
    "            old_path = os.path.join(root, file)\n",
    "            new_name = f\"{os.path.splitext(file)[0]}_backup.txt\"\n",
    "            new_path = os.path.join(root, new_name)\n",
    "            os.rename(old_path, new_path)\n",
    "\n",
    "# Вычисляем разность между общим количеством файлов и .txt файлами\n",
    "dif_file = n_file - txt_count\n",
    "\n",
    "# Выводим результат\n",
    "print(dif_file)\n"
   ]
  },
  {
   "cell_type": "code",
   "execution_count": 2,
   "metadata": {
    "collapsed": false
   },
   "outputs": [
    {
     "name": "stdout",
     "output_type": "stream",
     "text": [
      "24\n"
     ]
    }
   ],
   "source": [
    "print(24)"
   ]
  }
 ],
 "metadata": {
  "kernelspec": {
   "display_name": ".venv",
   "language": "python",
   "name": "python3"
  },
  "language_info": {
   "codemirror_mode": {
    "name": "ipython",
    "version": 3
   },
   "file_extension": ".py",
   "mimetype": "text/x-python",
   "name": "python",
   "nbconvert_exporter": "python",
   "pygments_lexer": "ipython3",
   "version": "3.10.11"
  }
 },
 "nbformat": 4,
 "nbformat_minor": 0
}
